{
 "cells": [
  {
   "cell_type": "code",
   "execution_count": 1,
   "metadata": {},
   "outputs": [],
   "source": [
    "import sys\n",
    "\n",
    "sys.path.insert(1, '../webservices/crop/')\n",
    "from ImageCropper import ImageCropper\n",
    "\n",
    "sys.path.insert(1, '../webservices/data_augmentation/')\n",
    "from DataAugmentation import DataAugmentation\n",
    "\n",
    "sys.path.insert(1, '../webservices/normalization/')\n",
    "from ImageNormalizer import ImageNormalizer\n",
    "\n",
    "sys.path.insert(1, '')"
   ]
  },
  {
   "cell_type": "code",
   "execution_count": 2,
   "metadata": {},
   "outputs": [],
   "source": [
    "DIRECTORY_FROM = '../../data/'\n",
    "DIRECTORY_TO = '../../new_data_augment/'"
   ]
  },
  {
   "cell_type": "code",
   "execution_count": 3,
   "metadata": {},
   "outputs": [
    {
     "name": "stderr",
     "output_type": "stream",
     "text": [
      "11:57:22 - INFO - data_augmentation.init\n",
      "11:57:22 - DEBUG - STREAM b'IHDR' 16 13\n",
      "11:57:22 - DEBUG - STREAM b'IDAT' 41 35580\n",
      "11:57:23 - DEBUG - STREAM b'IHDR' 16 13\n",
      "11:57:23 - DEBUG - STREAM b'pHYs' 41 9\n",
      "11:57:23 - DEBUG - STREAM b'IDAT' 62 4096\n",
      "11:57:23 - DEBUG - STREAM b'IHDR' 16 13\n",
      "11:57:23 - DEBUG - STREAM b'sRGB' 41 1\n",
      "11:57:23 - DEBUG - STREAM b'gAMA' 54 4\n",
      "11:57:23 - DEBUG - STREAM b'pHYs' 70 9\n",
      "11:57:23 - DEBUG - STREAM b'IDAT' 91 65445\n",
      "11:57:23 - DEBUG - STREAM b'IHDR' 16 13\n",
      "11:57:23 - DEBUG - STREAM b'gAMA' 41 4\n",
      "11:57:23 - DEBUG - STREAM b'sRGB' 57 1\n",
      "11:57:23 - DEBUG - STREAM b'vpAg' 70 9\n",
      "11:57:23 - DEBUG - b'vpAg' 70 9 (unknown)\n",
      "11:57:23 - DEBUG - STREAM b'PLTE' 91 387\n",
      "11:57:23 - DEBUG - STREAM b'IDAT' 490 8192\n",
      "11:57:23 - DEBUG - STREAM b'IHDR' 16 13\n",
      "11:57:23 - DEBUG - STREAM b'sRGB' 41 1\n",
      "11:57:23 - DEBUG - STREAM b'gAMA' 54 4\n",
      "11:57:23 - DEBUG - STREAM b'pHYs' 70 9\n",
      "11:57:23 - DEBUG - STREAM b'IDAT' 91 65445\n",
      "11:57:23 - DEBUG - STREAM b'IHDR' 16 13\n",
      "11:57:23 - DEBUG - STREAM b'pHYs' 41 9\n",
      "11:57:23 - DEBUG - STREAM b'IDAT' 62 8192\n",
      "11:57:23 - DEBUG - STREAM b'IHDR' 16 13\n",
      "11:57:23 - DEBUG - STREAM b'pHYs' 41 9\n",
      "11:57:23 - DEBUG - STREAM b'IDAT' 62 8192\n",
      "11:57:23 - DEBUG - STREAM b'IHDR' 16 13\n",
      "11:57:23 - DEBUG - STREAM b'IDAT' 41 32768\n",
      "11:57:23 - INFO - data_augmentation.equilibrate\n",
      "11:57:23 - INFO - data_augmentation.compute_equilibrate\n",
      "11:57:23 - INFO - Adding 57 images to ../../new_data_augment/no/\n",
      "11:57:23 - INFO - data_augmentation.compute_flip\n",
      "11:57:23 - INFO - data_augmentation.augmentation\n",
      "11:57:23 - INFO - data_augmentation.perform_rotate\n",
      "11:57:30 - INFO - data_augmentation.apply_filters\n"
     ]
    }
   ],
   "source": [
    "da = DataAugmentation(DIRECTORY_FROM, max_augmentation=1000, directory_to=DIRECTORY_TO)\n",
    "da.run()"
   ]
  },
  {
   "cell_type": "code",
   "execution_count": 4,
   "metadata": {},
   "outputs": [
    {
     "name": "stdout",
     "output_type": "stream",
     "text": [
      "../../new_data_augment/ already exists\n",
      "../../new_data_augment/yes already exists\n",
      "../../new_data_augment/no already exists\n"
     ]
    }
   ],
   "source": [
    "imc2 = ImageCropper(DIRECTORY_TO, DIRECTORY_TO, ['yes', 'no'])\n",
    "imc2.createOutputDirectory()\n",
    "imc2.cropImages()"
   ]
  },
  {
   "cell_type": "code",
   "execution_count": 11,
   "metadata": {},
   "outputs": [
    {
     "name": "stderr",
     "output_type": "stream",
     "text": [
      "11:26:13 - DEBUG - STREAM b'IHDR' 16 13\n",
      "11:26:13 - DEBUG - STREAM b'IDAT' 41 8192\n",
      "11:26:18 - DEBUG - STREAM b'IHDR' 16 13\n",
      "11:26:18 - DEBUG - STREAM b'IDAT' 41 8192\n"
     ]
    }
   ],
   "source": [
    "imgnorm2 = ImageNormalizer(DIRECTORY_TO, DIRECTORY_TO)\n",
    "imgnorm2.loadImagesData()\n",
    "imgnorm2.resizeImages(\n",
    "    mode = ImageNormalizer.MODE_RESIZING_KEEP_RATIO,\n",
    "    background_color = 'black',\n",
    "    shape = ImageNormalizer.SHAPE_SQUARE,\n",
    "    square_size = 1000\n",
    ")\n",
    "imgnorm2.convertImages2GrayscaleMode()\n",
    "imgnorm2.convertImages2RGBMode()\n",
    "imgnorm2.saveImages()"
   ]
  },
  {
   "cell_type": "code",
   "execution_count": null,
   "metadata": {},
   "outputs": [],
   "source": []
  }
 ],
 "metadata": {
  "kernelspec": {
   "display_name": "Python 3",
   "language": "python",
   "name": "python3"
  },
  "language_info": {
   "codemirror_mode": {
    "name": "ipython",
    "version": 3
   },
   "file_extension": ".py",
   "mimetype": "text/x-python",
   "name": "python",
   "nbconvert_exporter": "python",
   "pygments_lexer": "ipython3",
   "version": "3.7.5"
  }
 },
 "nbformat": 4,
 "nbformat_minor": 4
}
