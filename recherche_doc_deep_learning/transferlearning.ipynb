{
 "cells": [
  {
   "cell_type": "code",
   "execution_count": 1,
   "metadata": {},
   "outputs": [],
   "source": [
    "from PIL import Image\n",
    "import numpy as np\n",
    "import os\n",
    "\n",
    "import torch\n",
    "import torch.nn as nn\n",
    "import torch.optim as optim\n",
    "import torchvision.transforms as transforms\n",
    "from torch.utils.data.sampler import SubsetRandomSampler\n",
    "from torch.utils.data import Dataset\n",
    "from torchvision import models\n",
    "\n",
    "device = torch.device(\"cuda:0\")"
   ]
  },
  {
   "cell_type": "code",
   "execution_count": 2,
   "metadata": {},
   "outputs": [],
   "source": [
    "list_img = []\n",
    "labels = []\n",
    "\n",
    "directory = '../../new_data_norm2/'\n",
    "for name in os.listdir(directory + 'yes'):\n",
    "    img = Image.open(directory + 'yes/'+ name)\n",
    "    img = img.resize((240,240))\n",
    "    list_img.append(np.asarray(img))\n",
    "    labels.append(1)\n",
    "    \n",
    "for name in os.listdir(directory + '/no'):\n",
    "    img = Image.open(directory + 'no/'+ name)\n",
    "    img = img.resize((240,240))\n",
    "    list_img.append(np.asarray(img))\n",
    "    labels.append(0)\n"
   ]
  },
  {
   "cell_type": "code",
   "execution_count": 3,
   "metadata": {},
   "outputs": [],
   "source": [
    "class brain_Dataset(Dataset):\n",
    "    def __init__ (self, data, transform=None):\n",
    "        self.data = data\n",
    "        self.transform = transform\n",
    "        \n",
    "    def __len__(self):\n",
    "        return len(self.data[1])\n",
    "        \n",
    "    def __getitem__(self, index):\n",
    "        img = self.data[0][index]\n",
    "        label = self.data[1][index]\n",
    "        \n",
    "        if self.transform:\n",
    "            img = self.transform(img)\n",
    "        \n",
    "        return img, label"
   ]
  },
  {
   "cell_type": "code",
   "execution_count": 4,
   "metadata": {},
   "outputs": [],
   "source": [
    "transform=transforms.Compose([\n",
    "                           transforms.ToTensor(),\n",
    "                           transforms.Normalize(mean=[0.485, 0.456, 0.406],\n",
    "                                     std=[0.229, 0.224, 0.225])                           \n",
    "                       ])"
   ]
  },
  {
   "cell_type": "code",
   "execution_count": 5,
   "metadata": {},
   "outputs": [],
   "source": [
    "dataset = brain_Dataset([list_img, labels], transform)"
   ]
  },
  {
   "cell_type": "code",
   "execution_count": 6,
   "metadata": {},
   "outputs": [],
   "source": [
    "batch_size = 15 ## A diminuer si cuda out of memory\n",
    "\n",
    "data_size = len(list_img)\n",
    "validation_split = .2\n",
    "split = int(np.floor(validation_split * data_size))\n",
    "indices = list(range(data_size))\n",
    "np.random.shuffle(indices)\n",
    "\n",
    "train_indices, val_indices = indices[split:], indices[:split]\n",
    "\n",
    "train_sampler = SubsetRandomSampler(train_indices)\n",
    "val_sampler = SubsetRandomSampler(val_indices)\n",
    "\n",
    "trainloader = torch.utils.data.DataLoader(dataset, batch_size=batch_size, \n",
    "                                           sampler=train_sampler)\n",
    "valloader = torch.utils.data.DataLoader(dataset, batch_size=batch_size,\n",
    "                                         sampler=val_sampler)"
   ]
  },
  {
   "cell_type": "code",
   "execution_count": 7,
   "metadata": {},
   "outputs": [],
   "source": [
    "def train_model(model, train_loader, val_loader, loss, optimizer, num_epochs):    \n",
    "    loss_history = []\n",
    "    train_history = []\n",
    "    val_history = []\n",
    "    \n",
    "    for epoch in range(num_epochs):\n",
    "        model.train() # Enter train mode\n",
    "        \n",
    "        loss_accum = 0\n",
    "        correct_samples = 0\n",
    "        total_samples = 0\n",
    "        for i_step, (x, y) in enumerate(train_loader):\n",
    "            x_gpu = x.to(device, dtype=torch.float)\n",
    "            y_gpu = y.to(device, dtype=torch.long)\n",
    "            prediction = model(x_gpu)   \n",
    "            loss_value = loss(prediction, y_gpu)\n",
    "            optimizer.zero_grad()\n",
    "            loss_value.backward()\n",
    "            optimizer.step()\n",
    "            \n",
    "            _, indices = torch.max(prediction, 1)\n",
    "\n",
    "            correct_samples += torch.sum(indices == y_gpu)\n",
    "            total_samples += y.shape[0]\n",
    "            \n",
    "            loss_accum += loss_value\n",
    "\n",
    "        ave_loss = loss_accum / i_step\n",
    "        train_accuracy = float(correct_samples) / total_samples\n",
    "        val_accuracy = compute_accuracy(model, val_loader)\n",
    "        \n",
    "        loss_history.append(float(ave_loss))\n",
    "        train_history.append(train_accuracy)\n",
    "        val_history.append(val_accuracy)\n",
    "        \n",
    "        print(\"Average loss: %f, Train accuracy: %f, Val accuracy: %f\" % (ave_loss, train_accuracy, val_accuracy))\n",
    "        \n",
    "    return loss_history, train_history, val_history\n",
    "        \n",
    "def compute_accuracy(model, loader):\n",
    "    model.eval() # Evaluation mode\n",
    "    \n",
    "    correct_samples = 0\n",
    "    total_samples = 0\n",
    "    \n",
    "    for i_step, (x, y) in enumerate(loader):\n",
    "      x_gpu = x.to(device, dtype=torch.float)\n",
    "      y_gpu = y.to(device, dtype=torch.long)\n",
    "      predictions = model(x_gpu)\n",
    "      _, indices = torch.max(predictions, 1)\n",
    "      correct_samples += torch.sum(indices == y_gpu)\n",
    "      total_samples += y.shape[0]\n",
    "      \n",
    "    accuracy = float(correct_samples)/total_samples       \n",
    "    \n",
    "    return accuracy"
   ]
  },
  {
   "cell_type": "markdown",
   "metadata": {},
   "source": [
    "### https://pytorch.org/tutorials/beginner/transfer_learning_tutorial.html"
   ]
  },
  {
   "cell_type": "markdown",
   "metadata": {},
   "source": [
    "### Resnet18"
   ]
  },
  {
   "cell_type": "markdown",
   "metadata": {},
   "source": [
    "#### Fine-tuning"
   ]
  },
  {
   "cell_type": "code",
   "execution_count": 30,
   "metadata": {},
   "outputs": [],
   "source": [
    "model = models.resnet18(pretrained=True)\n",
    "\n",
    "num_ftrs = model.fc.in_features\n",
    "model.fc = nn.Linear(num_ftrs, 2)\n",
    "\n",
    "model = model.to(device)"
   ]
  },
  {
   "cell_type": "code",
   "execution_count": 31,
   "metadata": {},
   "outputs": [],
   "source": [
    "loss = nn.CrossEntropyLoss().type(torch.cuda.FloatTensor)\n",
    "optimizer = optim.Adam(model.parameters(), lr=1e-3)"
   ]
  },
  {
   "cell_type": "code",
   "execution_count": 32,
   "metadata": {},
   "outputs": [
    {
     "name": "stdout",
     "output_type": "stream",
     "text": [
      "Average loss: 0.406963, Train accuracy: 0.842273, Val accuracy: 0.854220\n",
      "Average loss: 0.204784, Train accuracy: 0.926564, Val accuracy: 0.961637\n",
      "Average loss: 0.145642, Train accuracy: 0.945722, Val accuracy: 0.915601\n",
      "Average loss: 0.114526, Train accuracy: 0.964240, Val accuracy: 0.951407\n",
      "Average loss: 0.069807, Train accuracy: 0.977650, Val accuracy: 0.953964\n"
     ]
    },
    {
     "data": {
      "text/plain": [
       "([0.4069632291793823,\n",
       "  0.204783633351326,\n",
       "  0.14564168453216553,\n",
       "  0.11452613025903702,\n",
       "  0.06980697065591812],\n",
       " [0.8422733077905492,\n",
       "  0.9265644955300127,\n",
       "  0.9457215836526182,\n",
       "  0.9642401021711366,\n",
       "  0.9776500638569604],\n",
       " [0.8542199488491049,\n",
       "  0.9616368286445013,\n",
       "  0.9156010230179028,\n",
       "  0.9514066496163683,\n",
       "  0.9539641943734015])"
      ]
     },
     "execution_count": 32,
     "metadata": {},
     "output_type": "execute_result"
    }
   ],
   "source": [
    "train_model(model, trainloader, valloader, loss, optimizer, 5)"
   ]
  },
  {
   "cell_type": "markdown",
   "metadata": {},
   "source": [
    "#### Fixed feature extractor"
   ]
  },
  {
   "cell_type": "code",
   "execution_count": 24,
   "metadata": {},
   "outputs": [],
   "source": [
    "res_mod = models.resnet18(pretrained=True)\n",
    "for param in res_mod.parameters():\n",
    "    param.requires_grad = False\n",
    "\n",
    "num_ftrs = res_mod.fc.in_features\n",
    "res_mod.fc = nn.Linear(num_ftrs, 2)\n",
    "\n",
    "res_mod = res_mod.to(device)"
   ]
  },
  {
   "cell_type": "code",
   "execution_count": 25,
   "metadata": {},
   "outputs": [],
   "source": [
    "loss = nn.CrossEntropyLoss().type(torch.cuda.FloatTensor)\n",
    "optimizer = optim.SGD(res_mod.parameters(), lr=1e-3)"
   ]
  },
  {
   "cell_type": "code",
   "execution_count": 26,
   "metadata": {},
   "outputs": [
    {
     "name": "stdout",
     "output_type": "stream",
     "text": [
      "Average loss: 0.682526, Train accuracy: 0.624521, Val accuracy: 0.659847\n",
      "Average loss: 0.570795, Train accuracy: 0.722222, Val accuracy: 0.708440\n",
      "Average loss: 0.526917, Train accuracy: 0.768199, Val accuracy: 0.744246\n",
      "Average loss: 0.494851, Train accuracy: 0.782886, Val accuracy: 0.780051\n",
      "Average loss: 0.470306, Train accuracy: 0.795658, Val accuracy: 0.782609\n"
     ]
    },
    {
     "data": {
      "text/plain": [
       "([0.6825255751609802,\n",
       "  0.570794939994812,\n",
       "  0.5269172787666321,\n",
       "  0.4948510229587555,\n",
       "  0.47030580043792725],\n",
       " [0.6245210727969349,\n",
       "  0.7222222222222222,\n",
       "  0.7681992337164751,\n",
       "  0.7828863346104725,\n",
       "  0.7956577266922095],\n",
       " [0.659846547314578,\n",
       "  0.7084398976982097,\n",
       "  0.7442455242966752,\n",
       "  0.7800511508951407,\n",
       "  0.782608695652174])"
      ]
     },
     "execution_count": 26,
     "metadata": {},
     "output_type": "execute_result"
    }
   ],
   "source": [
    "train_model(res_mod, trainloader, valloader, loss, optimizer, 5)"
   ]
  },
  {
   "cell_type": "markdown",
   "metadata": {},
   "source": [
    "### Alexnet"
   ]
  },
  {
   "cell_type": "code",
   "execution_count": 20,
   "metadata": {},
   "outputs": [],
   "source": [
    "model = models.alexnet(pretrained=True)\n",
    "\n",
    "model.classifier[6] = torch.nn.Linear(model.classifier[6].in_features, 2)\n",
    "\n",
    "model = model.to(device)"
   ]
  },
  {
   "cell_type": "code",
   "execution_count": 21,
   "metadata": {},
   "outputs": [],
   "source": [
    "loss = nn.CrossEntropyLoss().type(torch.cuda.FloatTensor)\n",
    "optimizer = optim.SGD(model.parameters(), lr=1e-3)"
   ]
  },
  {
   "cell_type": "code",
   "execution_count": 22,
   "metadata": {},
   "outputs": [
    {
     "name": "stdout",
     "output_type": "stream",
     "text": [
      "Average loss: 0.446798, Train accuracy: 0.786718, Val accuracy: 0.851662\n",
      "Average loss: 0.255177, Train accuracy: 0.894636, Val accuracy: 0.915601\n",
      "Average loss: 0.159374, Train accuracy: 0.943167, Val accuracy: 0.928389\n",
      "Average loss: 0.128514, Train accuracy: 0.954662, Val accuracy: 0.943734\n",
      "Average loss: 0.103591, Train accuracy: 0.965517, Val accuracy: 0.969309\n"
     ]
    },
    {
     "data": {
      "text/plain": [
       "([0.4467983841896057,\n",
       "  0.25517722964286804,\n",
       "  0.15937399864196777,\n",
       "  0.12851357460021973,\n",
       "  0.10359135270118713],\n",
       " [0.7867177522349936,\n",
       "  0.8946360153256705,\n",
       "  0.9431673052362708,\n",
       "  0.954661558109834,\n",
       "  0.9655172413793104],\n",
       " [0.8516624040920716,\n",
       "  0.9156010230179028,\n",
       "  0.928388746803069,\n",
       "  0.9437340153452686,\n",
       "  0.969309462915601])"
      ]
     },
     "execution_count": 22,
     "metadata": {},
     "output_type": "execute_result"
    }
   ],
   "source": [
    "train_model(model, trainloader, valloader, loss, optimizer, 5)"
   ]
  },
  {
   "cell_type": "code",
   "execution_count": null,
   "metadata": {},
   "outputs": [],
   "source": []
  }
 ],
 "metadata": {
  "kernelspec": {
   "display_name": "Python 3",
   "language": "python",
   "name": "python3"
  },
  "language_info": {
   "codemirror_mode": {
    "name": "ipython",
    "version": 3
   },
   "file_extension": ".py",
   "mimetype": "text/x-python",
   "name": "python",
   "nbconvert_exporter": "python",
   "pygments_lexer": "ipython3",
   "version": "3.7.5"
  }
 },
 "nbformat": 4,
 "nbformat_minor": 4
}
