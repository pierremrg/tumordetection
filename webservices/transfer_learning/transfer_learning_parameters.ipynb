{
 "cells": [
  {
   "cell_type": "code",
   "execution_count": 1,
   "metadata": {},
   "outputs": [],
   "source": [
    "from PIL import Image\n",
    "import numpy as np\n",
    "import os\n",
    "\n",
    "import torch\n",
    "import torch.nn as nn\n",
    "import torch.optim as optim\n",
    "import torchvision.transforms as transforms\n",
    "from torch.utils.data.sampler import SubsetRandomSampler\n",
    "from torch.utils.data import Dataset\n",
    "from torchvision import models\n",
    "\n",
    "device = torch.device(\"cuda:0\")"
   ]
  },
  {
   "cell_type": "code",
   "execution_count": 2,
   "metadata": {},
   "outputs": [],
   "source": [
    "class brain_Dataset(Dataset):\n",
    "    def __init__ (self, data, transform=None):\n",
    "        self.data = data\n",
    "        self.transform = transform\n",
    "        \n",
    "    def __len__(self):\n",
    "        return len(self.data[1])\n",
    "        \n",
    "    def __getitem__(self, index):\n",
    "        img = self.data[0][index]\n",
    "        label = self.data[1][index]\n",
    "        \n",
    "        if self.transform:\n",
    "            img = self.transform(img)\n",
    "        \n",
    "        return img, label"
   ]
  },
  {
   "cell_type": "code",
   "execution_count": 3,
   "metadata": {},
   "outputs": [],
   "source": [
    "def read_images(directory, img_size):\n",
    "    #logging.info('pytorch_utils.read_images')\n",
    "\n",
    "    list_img = []\n",
    "    labels = []\n",
    "\n",
    "    for name in os.listdir(directory + 'yes'):\n",
    "        img = Image.open(directory + 'yes/'+ name)\n",
    "        img = img.resize((img_size, img_size))\n",
    "        list_img.append(np.asarray(img))\n",
    "        labels.append(1)\n",
    "        \n",
    "    for name in os.listdir(directory + 'no'):\n",
    "        img = Image.open(directory + 'no/'+ name)\n",
    "        img = img.resize((img_size, img_size))\n",
    "        list_img.append(np.asarray(img))\n",
    "        labels.append(0)\n",
    "\n",
    "    return list_img, labels"
   ]
  },
  {
   "cell_type": "code",
   "execution_count": 4,
   "metadata": {},
   "outputs": [],
   "source": [
    "def create_dataloader(directory, img_size, batch_size, transforms = None, validation_split = 0.2):\n",
    "    #logging.info('pytorch_utils.create_dataloader')\n",
    "\n",
    "    list_img, labels = read_images(directory, img_size)\n",
    "    dataset = brain_Dataset([list_img, labels], transforms)\n",
    "\n",
    "    data_size = len(list_img)\n",
    "    validation_split = validation_split\n",
    "    split = int(np.floor(validation_split * data_size))\n",
    "    indices = list(range(data_size))\n",
    "    np.random.shuffle(indices)\n",
    "\n",
    "    train_indices, val_indices = indices[split:], indices[:split]\n",
    "\n",
    "    train_sampler = SubsetRandomSampler(train_indices)\n",
    "    val_sampler = SubsetRandomSampler(val_indices)\n",
    "\n",
    "    train_loader = torch.utils.data.DataLoader(dataset, batch_size=batch_size, \n",
    "                                            sampler=train_sampler)\n",
    "    val_loader = torch.utils.data.DataLoader(dataset, batch_size=batch_size,\n",
    "                                            sampler=val_sampler)\n",
    "\n",
    "    return train_loader, val_loader"
   ]
  },
  {
   "cell_type": "code",
   "execution_count": 5,
   "metadata": {},
   "outputs": [],
   "source": [
    "def compute_accuracy(model, val_loader):\n",
    "    model.eval() # Evaluation mode\n",
    "    \n",
    "    correct_samples = 0\n",
    "    total_samples = 0\n",
    "    \n",
    "    for i_step, (x, y) in enumerate(val_loader):\n",
    "      x_gpu = x.to(device, dtype=torch.float)\n",
    "      y_gpu = y.to(device, dtype=torch.long)\n",
    "\n",
    "      predictions = model(x_gpu)\n",
    "      _, indices = torch.max(predictions, 1)\n",
    "\n",
    "      correct_samples += torch.sum(indices == y_gpu)\n",
    "      total_samples += y.shape[0]\n",
    "      \n",
    "    accuracy = float(correct_samples)/total_samples       \n",
    "    \n",
    "    return accuracy"
   ]
  },
  {
   "cell_type": "code",
   "execution_count": 6,
   "metadata": {},
   "outputs": [],
   "source": [
    "def train_model(model, train_loader, val_loader, loss, optimizer, num_epochs):    \n",
    "    loss_history = []\n",
    "    train_history = []\n",
    "    val_history = []\n",
    "    \n",
    "    for epoch in range(num_epochs):\n",
    "        model.train() # Enter train mode\n",
    "        \n",
    "        loss_accum = 0\n",
    "        correct_samples = 0\n",
    "        total_samples = 0\n",
    "        for i_step, (x, y) in enumerate(train_loader):\n",
    "            x_gpu = x.to(device, dtype=torch.float)\n",
    "            y_gpu = y.to(device, dtype=torch.long)\n",
    "            prediction = model(x_gpu)   \n",
    "            loss_value = loss(prediction, y_gpu)\n",
    "            optimizer.zero_grad()\n",
    "            loss_value.backward()\n",
    "            optimizer.step()\n",
    "            \n",
    "            _, indices = torch.max(prediction, 1)\n",
    "\n",
    "            correct_samples += torch.sum(indices == y_gpu)\n",
    "            total_samples += y.shape[0]\n",
    "            \n",
    "            loss_accum += loss_value\n",
    "\n",
    "        ave_loss = loss_accum / i_step\n",
    "        train_accuracy = float(correct_samples) / total_samples\n",
    "        val_accuracy = compute_accuracy(model, val_loader)\n",
    "        \n",
    "        loss_history.append(float(ave_loss))\n",
    "        train_history.append(train_accuracy)\n",
    "        val_history.append(val_accuracy)\n",
    "        \n",
    "        print(\"Average loss: %f, Train accuracy: %f, Val accuracy: %f\" % (ave_loss, train_accuracy, val_accuracy))\n",
    "        \n",
    "    #return loss_history, train_history, val_history"
   ]
  },
  {
   "cell_type": "code",
   "execution_count": 7,
   "metadata": {},
   "outputs": [],
   "source": [
    "transform=transforms.Compose([\n",
    "                           transforms.ToTensor(),\n",
    "                           transforms.Normalize(mean=[0.485, 0.456, 0.406],\n",
    "                                     std=[0.229, 0.224, 0.225])                           \n",
    "                       ])\n",
    "directory = 'new_data_norm/'\n",
    "train_loader, val_loader = create_dataloader(directory = directory, img_size = 240, batch_size = 8, transforms = transform)"
   ]
  },
  {
   "cell_type": "markdown",
   "metadata": {},
   "source": [
    "# Alexnet"
   ]
  },
  {
   "cell_type": "code",
   "execution_count": 44,
   "metadata": {},
   "outputs": [],
   "source": [
    "model = models.alexnet(pretrained=True)\n",
    "\n",
    "model.classifier[6] = torch.nn.Linear(model.classifier[6].in_features, 2)\n",
    "\n",
    "model = model.to(device)"
   ]
  },
  {
   "cell_type": "markdown",
   "metadata": {},
   "source": [
    "## SGD"
   ]
  },
  {
   "cell_type": "code",
   "execution_count": 14,
   "metadata": {},
   "outputs": [],
   "source": [
    "loss = nn.CrossEntropyLoss().type(torch.cuda.FloatTensor)\n",
    "optimizer = optim.SGD(model.parameters(), lr=1e-3)"
   ]
  },
  {
   "cell_type": "code",
   "execution_count": 15,
   "metadata": {
    "scrolled": true
   },
   "outputs": [
    {
     "name": "stdout",
     "output_type": "stream",
     "text": [
      "Average loss: 0.514698, Train accuracy: 0.750958, Val accuracy: 0.749361\n",
      "Average loss: 0.357534, Train accuracy: 0.840358, Val accuracy: 0.872123\n",
      "Average loss: 0.267262, Train accuracy: 0.880587, Val accuracy: 0.895141\n",
      "Average loss: 0.192739, Train accuracy: 0.928480, Val accuracy: 0.933504\n",
      "Average loss: 0.166694, Train accuracy: 0.939336, Val accuracy: 0.933504\n",
      "Average loss: 0.142137, Train accuracy: 0.948914, Val accuracy: 0.915601\n",
      "Average loss: 0.110696, Train accuracy: 0.961686, Val accuracy: 0.948849\n",
      "Average loss: 0.086801, Train accuracy: 0.971264, Val accuracy: 0.961637\n",
      "Average loss: 0.084631, Train accuracy: 0.971264, Val accuracy: 0.928389\n",
      "Average loss: 0.054509, Train accuracy: 0.985313, Val accuracy: 0.969309\n",
      "Average loss: 0.057994, Train accuracy: 0.983397, Val accuracy: 0.951407\n",
      "Average loss: 0.041683, Train accuracy: 0.985951, Val accuracy: 0.969309\n",
      "Average loss: 0.047603, Train accuracy: 0.988506, Val accuracy: 0.969309\n",
      "Average loss: 0.027007, Train accuracy: 0.993614, Val accuracy: 0.974425\n",
      "Average loss: 0.022317, Train accuracy: 0.995530, Val accuracy: 0.959079\n",
      "Average loss: 0.028795, Train accuracy: 0.989783, Val accuracy: 0.966752\n",
      "Average loss: 0.018886, Train accuracy: 0.994891, Val accuracy: 0.966752\n",
      "Average loss: 0.019816, Train accuracy: 0.994253, Val accuracy: 0.964194\n",
      "Average loss: 0.016585, Train accuracy: 0.996169, Val accuracy: 0.966752\n",
      "Average loss: 0.017848, Train accuracy: 0.994891, Val accuracy: 0.974425\n"
     ]
    },
    {
     "data": {
      "text/plain": [
       "([0.5146983861923218,\n",
       "  0.35753387212753296,\n",
       "  0.26726195216178894,\n",
       "  0.19273947179317474,\n",
       "  0.1666942983865738,\n",
       "  0.14213679730892181,\n",
       "  0.11069601029157639,\n",
       "  0.08680105209350586,\n",
       "  0.08463147282600403,\n",
       "  0.054508719593286514,\n",
       "  0.05799388512969017,\n",
       "  0.041682831943035126,\n",
       "  0.04760296270251274,\n",
       "  0.02700701169669628,\n",
       "  0.022317318245768547,\n",
       "  0.02879493683576584,\n",
       "  0.018886391073465347,\n",
       "  0.019816339015960693,\n",
       "  0.016585152596235275,\n",
       "  0.017848078161478043],\n",
       " [0.7509578544061303,\n",
       "  0.8403575989782887,\n",
       "  0.8805874840357599,\n",
       "  0.9284802043422733,\n",
       "  0.9393358876117497,\n",
       "  0.9489144316730523,\n",
       "  0.9616858237547893,\n",
       "  0.9712643678160919,\n",
       "  0.9712643678160919,\n",
       "  0.9853128991060025,\n",
       "  0.9833971902937421,\n",
       "  0.9859514687100894,\n",
       "  0.9885057471264368,\n",
       "  0.9936143039591315,\n",
       "  0.9955300127713921,\n",
       "  0.9897828863346104,\n",
       "  0.9948914431673053,\n",
       "  0.9942528735632183,\n",
       "  0.9961685823754789,\n",
       "  0.9948914431673053],\n",
       " [0.7493606138107417,\n",
       "  0.8721227621483376,\n",
       "  0.8951406649616368,\n",
       "  0.9335038363171355,\n",
       "  0.9335038363171355,\n",
       "  0.9156010230179028,\n",
       "  0.948849104859335,\n",
       "  0.9616368286445013,\n",
       "  0.928388746803069,\n",
       "  0.969309462915601,\n",
       "  0.9514066496163683,\n",
       "  0.969309462915601,\n",
       "  0.969309462915601,\n",
       "  0.9744245524296675,\n",
       "  0.959079283887468,\n",
       "  0.9667519181585678,\n",
       "  0.9667519181585678,\n",
       "  0.9641943734015346,\n",
       "  0.9667519181585678,\n",
       "  0.9744245524296675])"
      ]
     },
     "execution_count": 15,
     "metadata": {},
     "output_type": "execute_result"
    }
   ],
   "source": [
    "train_model(model, train_loader, val_loader, loss, optimizer, 20)"
   ]
  },
  {
   "cell_type": "code",
   "execution_count": 25,
   "metadata": {},
   "outputs": [
    {
     "name": "stdout",
     "output_type": "stream",
     "text": [
      "Average loss: 0.493495, Train accuracy: 0.747765, Val accuracy: 0.828645\n",
      "Average loss: 0.371374, Train accuracy: 0.839080, Val accuracy: 0.872123\n",
      "Average loss: 0.290130, Train accuracy: 0.885696, Val accuracy: 0.721228\n",
      "Average loss: 0.246343, Train accuracy: 0.901660, Val accuracy: 0.890026\n",
      "Average loss: 0.191287, Train accuracy: 0.930396, Val accuracy: 0.900256\n",
      "Average loss: 0.158633, Train accuracy: 0.937420, Val accuracy: 0.951407\n",
      "Average loss: 0.133471, Train accuracy: 0.955939, Val accuracy: 0.961637\n",
      "Average loss: 0.104159, Train accuracy: 0.964240, Val accuracy: 0.956522\n",
      "Average loss: 0.092274, Train accuracy: 0.968710, Val accuracy: 0.974425\n",
      "Average loss: 0.072014, Train accuracy: 0.977011, Val accuracy: 0.953964\n",
      "Average loss: 0.063080, Train accuracy: 0.981481, Val accuracy: 0.948849\n",
      "Average loss: 0.050753, Train accuracy: 0.984674, Val accuracy: 0.971867\n",
      "Average loss: 0.030440, Train accuracy: 0.992337, Val accuracy: 0.956522\n",
      "Average loss: 0.041695, Train accuracy: 0.985313, Val accuracy: 0.976982\n",
      "Average loss: 0.033413, Train accuracy: 0.992337, Val accuracy: 0.976982\n",
      "Average loss: 0.022135, Train accuracy: 0.994253, Val accuracy: 0.974425\n",
      "Average loss: 0.020914, Train accuracy: 0.994891, Val accuracy: 0.976982\n",
      "Average loss: 0.018788, Train accuracy: 0.994891, Val accuracy: 0.976982\n",
      "Average loss: 0.025408, Train accuracy: 0.991060, Val accuracy: 0.976982\n",
      "Average loss: 0.016497, Train accuracy: 0.996169, Val accuracy: 0.976982\n",
      "Average loss: 0.013011, Train accuracy: 0.998084, Val accuracy: 0.951407\n",
      "Average loss: 0.018635, Train accuracy: 0.994891, Val accuracy: 0.976982\n",
      "Average loss: 0.012413, Train accuracy: 0.996807, Val accuracy: 0.974425\n",
      "Average loss: 0.016247, Train accuracy: 0.993614, Val accuracy: 0.979540\n",
      "Average loss: 0.012407, Train accuracy: 0.997446, Val accuracy: 0.982097\n",
      "Average loss: 0.007424, Train accuracy: 0.998723, Val accuracy: 0.976982\n",
      "Average loss: 0.010376, Train accuracy: 0.996807, Val accuracy: 0.966752\n",
      "Average loss: 0.010035, Train accuracy: 0.997446, Val accuracy: 0.979540\n",
      "Average loss: 0.010202, Train accuracy: 0.996807, Val accuracy: 0.979540\n",
      "Average loss: 0.004324, Train accuracy: 1.000000, Val accuracy: 0.976982\n"
     ]
    },
    {
     "data": {
      "text/plain": [
       "([0.4934949576854706,\n",
       "  0.3713735342025757,\n",
       "  0.2901299297809601,\n",
       "  0.24634340405464172,\n",
       "  0.19128741323947906,\n",
       "  0.15863323211669922,\n",
       "  0.13347116112709045,\n",
       "  0.10415872931480408,\n",
       "  0.09227357059717178,\n",
       "  0.07201351970434189,\n",
       "  0.06308049708604813,\n",
       "  0.05075305327773094,\n",
       "  0.030440306290984154,\n",
       "  0.04169544577598572,\n",
       "  0.033413492143154144,\n",
       "  0.02213483676314354,\n",
       "  0.020914016291499138,\n",
       "  0.01878846436738968,\n",
       "  0.025408314540982246,\n",
       "  0.016497278586030006,\n",
       "  0.013011381961405277,\n",
       "  0.018635137006640434,\n",
       "  0.012413202784955502,\n",
       "  0.016247356310486794,\n",
       "  0.012407331727445126,\n",
       "  0.007424139883369207,\n",
       "  0.010375847108662128,\n",
       "  0.010034586302936077,\n",
       "  0.010201823897659779,\n",
       "  0.004323864821344614],\n",
       " [0.7477650063856961,\n",
       "  0.8390804597701149,\n",
       "  0.8856960408684547,\n",
       "  0.9016602809706258,\n",
       "  0.9303959131545338,\n",
       "  0.9374201787994891,\n",
       "  0.9559386973180076,\n",
       "  0.9642401021711366,\n",
       "  0.9687100893997446,\n",
       "  0.9770114942528736,\n",
       "  0.9814814814814815,\n",
       "  0.9846743295019157,\n",
       "  0.9923371647509579,\n",
       "  0.9853128991060025,\n",
       "  0.9923371647509579,\n",
       "  0.9942528735632183,\n",
       "  0.9948914431673053,\n",
       "  0.9948914431673053,\n",
       "  0.9910600255427842,\n",
       "  0.9961685823754789,\n",
       "  0.9980842911877394,\n",
       "  0.9948914431673053,\n",
       "  0.9968071519795658,\n",
       "  0.9936143039591315,\n",
       "  0.9974457215836526,\n",
       "  0.9987228607918263,\n",
       "  0.9968071519795658,\n",
       "  0.9974457215836526,\n",
       "  0.9968071519795658,\n",
       "  1.0],\n",
       " [0.8286445012787724,\n",
       "  0.8721227621483376,\n",
       "  0.7212276214833759,\n",
       "  0.8900255754475703,\n",
       "  0.9002557544757033,\n",
       "  0.9514066496163683,\n",
       "  0.9616368286445013,\n",
       "  0.9565217391304348,\n",
       "  0.9744245524296675,\n",
       "  0.9539641943734015,\n",
       "  0.948849104859335,\n",
       "  0.9718670076726342,\n",
       "  0.9565217391304348,\n",
       "  0.9769820971867008,\n",
       "  0.9769820971867008,\n",
       "  0.9744245524296675,\n",
       "  0.9769820971867008,\n",
       "  0.9769820971867008,\n",
       "  0.9769820971867008,\n",
       "  0.9769820971867008,\n",
       "  0.9514066496163683,\n",
       "  0.9769820971867008,\n",
       "  0.9744245524296675,\n",
       "  0.979539641943734,\n",
       "  0.9820971867007673,\n",
       "  0.9769820971867008,\n",
       "  0.9667519181585678,\n",
       "  0.979539641943734,\n",
       "  0.979539641943734,\n",
       "  0.9769820971867008])"
      ]
     },
     "execution_count": 25,
     "metadata": {},
     "output_type": "execute_result"
    }
   ],
   "source": [
    "train_model(model, train_loader, val_loader, loss, optimizer, 30)"
   ]
  },
  {
   "cell_type": "markdown",
   "metadata": {},
   "source": [
    "## Adam"
   ]
  },
  {
   "cell_type": "code",
   "execution_count": 9,
   "metadata": {},
   "outputs": [],
   "source": [
    "loss = nn.CrossEntropyLoss().type(torch.cuda.FloatTensor)\n",
    "optimizer = optim.Adam(model.parameters(), lr=1e-3)"
   ]
  },
  {
   "cell_type": "code",
   "execution_count": 10,
   "metadata": {},
   "outputs": [
    {
     "name": "stdout",
     "output_type": "stream",
     "text": [
      "Average loss: 0.755396, Train accuracy: 0.506386, Val accuracy: 0.531969\n",
      "Average loss: 0.701701, Train accuracy: 0.498084, Val accuracy: 0.531969\n",
      "Average loss: 0.700313, Train accuracy: 0.502554, Val accuracy: 0.531969\n",
      "Average loss: 0.701680, Train accuracy: 0.496807, Val accuracy: 0.531969\n",
      "Average loss: 0.701574, Train accuracy: 0.491699, Val accuracy: 0.468031\n",
      "Average loss: 0.701008, Train accuracy: 0.490421, Val accuracy: 0.468031\n",
      "Average loss: 0.700492, Train accuracy: 0.492976, Val accuracy: 0.468031\n",
      "Average loss: 0.700116, Train accuracy: 0.505109, Val accuracy: 0.531969\n",
      "Average loss: 0.700989, Train accuracy: 0.491060, Val accuracy: 0.468031\n",
      "Average loss: 0.700986, Train accuracy: 0.498723, Val accuracy: 0.531969\n"
     ]
    },
    {
     "data": {
      "text/plain": [
       "([0.7553964853286743,\n",
       "  0.7017010450363159,\n",
       "  0.7003127336502075,\n",
       "  0.7016804814338684,\n",
       "  0.7015736103057861,\n",
       "  0.7010084390640259,\n",
       "  0.7004918456077576,\n",
       "  0.7001155018806458,\n",
       "  0.7009887099266052,\n",
       "  0.7009863257408142],\n",
       " [0.5063856960408685,\n",
       "  0.49808429118773945,\n",
       "  0.5025542784163474,\n",
       "  0.49680715197956576,\n",
       "  0.49169859514687103,\n",
       "  0.4904214559386973,\n",
       "  0.4929757343550447,\n",
       "  0.5051085568326947,\n",
       "  0.49106002554278416,\n",
       "  0.4987228607918263],\n",
       " [0.5319693094629157,\n",
       "  0.5319693094629157,\n",
       "  0.5319693094629157,\n",
       "  0.5319693094629157,\n",
       "  0.4680306905370844,\n",
       "  0.4680306905370844,\n",
       "  0.4680306905370844,\n",
       "  0.5319693094629157,\n",
       "  0.4680306905370844,\n",
       "  0.5319693094629157])"
      ]
     },
     "execution_count": 10,
     "metadata": {},
     "output_type": "execute_result"
    }
   ],
   "source": [
    "train_model(model, train_loader, val_loader, loss, optimizer, 10)"
   ]
  },
  {
   "cell_type": "markdown",
   "metadata": {},
   "source": [
    "## Adagrad "
   ]
  },
  {
   "cell_type": "code",
   "execution_count": 21,
   "metadata": {},
   "outputs": [],
   "source": [
    "loss = nn.CrossEntropyLoss().type(torch.cuda.FloatTensor)\n",
    "optimizer = optim.Adagrad(model.parameters(), lr=1e-3)"
   ]
  },
  {
   "cell_type": "code",
   "execution_count": 22,
   "metadata": {},
   "outputs": [
    {
     "name": "stdout",
     "output_type": "stream",
     "text": [
      "Average loss: 0.655460, Train accuracy: 0.656450, Val accuracy: 0.567775\n",
      "Average loss: 0.588020, Train accuracy: 0.685185, Val accuracy: 0.672634\n",
      "Average loss: 0.538579, Train accuracy: 0.724138, Val accuracy: 0.718670\n",
      "Average loss: 0.498188, Train accuracy: 0.767561, Val accuracy: 0.749361\n",
      "Average loss: 0.367694, Train accuracy: 0.834610, Val accuracy: 0.841432\n",
      "Average loss: 0.306939, Train accuracy: 0.886335, Val accuracy: 0.895141\n",
      "Average loss: 0.209476, Train accuracy: 0.921456, Val accuracy: 0.905371\n",
      "Average loss: 0.155096, Train accuracy: 0.940613, Val accuracy: 0.928389\n",
      "Average loss: 0.111104, Train accuracy: 0.955300, Val accuracy: 0.928389\n",
      "Average loss: 0.107148, Train accuracy: 0.962963, Val accuracy: 0.948849\n",
      "Average loss: 0.056685, Train accuracy: 0.978289, Val accuracy: 0.948849\n",
      "Average loss: 0.044035, Train accuracy: 0.989144, Val accuracy: 0.964194\n",
      "Average loss: 0.031917, Train accuracy: 0.989783, Val accuracy: 0.964194\n",
      "Average loss: 0.040821, Train accuracy: 0.985951, Val accuracy: 0.966752\n",
      "Average loss: 0.041759, Train accuracy: 0.988506, Val accuracy: 0.966752\n"
     ]
    }
   ],
   "source": [
    "train_model(model, train_loader, val_loader, loss, optimizer, 15)"
   ]
  },
  {
   "cell_type": "markdown",
   "metadata": {},
   "source": [
    "## ASGD"
   ]
  },
  {
   "cell_type": "code",
   "execution_count": 24,
   "metadata": {},
   "outputs": [],
   "source": [
    "loss = nn.CrossEntropyLoss().type(torch.cuda.FloatTensor)\n",
    "optimizer = optim.ASGD(model.parameters(), lr=1e-3)"
   ]
  },
  {
   "cell_type": "code",
   "execution_count": 25,
   "metadata": {},
   "outputs": [
    {
     "name": "stdout",
     "output_type": "stream",
     "text": [
      "Average loss: 0.518355, Train accuracy: 0.742018, Val accuracy: 0.838875\n",
      "Average loss: 0.362620, Train accuracy: 0.830779, Val accuracy: 0.874680\n",
      "Average loss: 0.280479, Train accuracy: 0.880587, Val accuracy: 0.900256\n",
      "Average loss: 0.209895, Train accuracy: 0.915709, Val accuracy: 0.843990\n",
      "Average loss: 0.174861, Train accuracy: 0.933589, Val accuracy: 0.928389\n",
      "Average loss: 0.151470, Train accuracy: 0.945722, Val accuracy: 0.925831\n",
      "Average loss: 0.117123, Train accuracy: 0.961047, Val accuracy: 0.672634\n",
      "Average loss: 0.096002, Train accuracy: 0.968710, Val accuracy: 0.948849\n",
      "Average loss: 0.073285, Train accuracy: 0.979566, Val accuracy: 0.948849\n",
      "Average loss: 0.062788, Train accuracy: 0.976373, Val accuracy: 0.941176\n",
      "Average loss: 0.049828, Train accuracy: 0.983397, Val accuracy: 0.948849\n",
      "Average loss: 0.046098, Train accuracy: 0.984036, Val accuracy: 0.951407\n",
      "Average loss: 0.035945, Train accuracy: 0.986590, Val accuracy: 0.930946\n",
      "Average loss: 0.025608, Train accuracy: 0.994253, Val accuracy: 0.959079\n",
      "Average loss: 0.032021, Train accuracy: 0.989783, Val accuracy: 0.956522\n"
     ]
    }
   ],
   "source": [
    "train_model(model, train_loader, val_loader, loss, optimizer, 15)"
   ]
  },
  {
   "cell_type": "markdown",
   "metadata": {},
   "source": [
    "Pour l'instant parmi les optimiseurs testés SGD et Adagrad sont les mieux pour Alexnet"
   ]
  },
  {
   "cell_type": "code",
   "execution_count": 36,
   "metadata": {},
   "outputs": [],
   "source": [
    "loss = nn.CrossEntropyLoss().type(torch.cuda.FloatTensor)\n",
    "optimizer = optim.SGD(model.parameters(), lr=1e-2, momentum = 0.1)"
   ]
  },
  {
   "cell_type": "code",
   "execution_count": 37,
   "metadata": {},
   "outputs": [
    {
     "name": "stdout",
     "output_type": "stream",
     "text": [
      "Average loss: 0.617628, Train accuracy: 0.717752, Val accuracy: 0.843990\n",
      "Average loss: 0.286149, Train accuracy: 0.875479, Val accuracy: 0.890026\n",
      "Average loss: 0.155899, Train accuracy: 0.943806, Val accuracy: 0.895141\n",
      "Average loss: 0.131997, Train accuracy: 0.952746, Val accuracy: 0.966752\n",
      "Average loss: 0.040783, Train accuracy: 0.986590, Val accuracy: 0.974425\n",
      "Average loss: 0.140254, Train accuracy: 0.954662, Val accuracy: 0.966752\n",
      "Average loss: 0.050960, Train accuracy: 0.980204, Val accuracy: 0.969309\n",
      "Average loss: 0.018420, Train accuracy: 0.995530, Val accuracy: 0.976982\n",
      "Average loss: 0.005103, Train accuracy: 0.998084, Val accuracy: 0.976982\n",
      "Average loss: 0.001064, Train accuracy: 1.000000, Val accuracy: 0.982097\n"
     ]
    }
   ],
   "source": [
    "train_model(model, train_loader, val_loader, loss, optimizer, 10)"
   ]
  },
  {
   "cell_type": "code",
   "execution_count": 45,
   "metadata": {},
   "outputs": [],
   "source": [
    "loss = nn.CrossEntropyLoss().type(torch.cuda.FloatTensor)\n",
    "optimizer = optim.SGD(model.parameters(), lr=1e-2, momentum = 0.1, weight_decay = 1e-3)"
   ]
  },
  {
   "cell_type": "code",
   "execution_count": 46,
   "metadata": {},
   "outputs": [
    {
     "name": "stdout",
     "output_type": "stream",
     "text": [
      "Average loss: 0.583586, Train accuracy: 0.742018, Val accuracy: 0.831202\n",
      "Average loss: 0.280331, Train accuracy: 0.880587, Val accuracy: 0.897698\n",
      "Average loss: 0.159111, Train accuracy: 0.932312, Val accuracy: 0.953964\n",
      "Average loss: 0.077307, Train accuracy: 0.971264, Val accuracy: 0.861893\n",
      "Average loss: 0.050352, Train accuracy: 0.984674, Val accuracy: 0.969309\n",
      "Average loss: 0.062373, Train accuracy: 0.986590, Val accuracy: 0.961637\n",
      "Average loss: 0.032089, Train accuracy: 0.988506, Val accuracy: 0.964194\n",
      "Average loss: 0.022068, Train accuracy: 0.991699, Val accuracy: 0.979540\n",
      "Average loss: 0.001661, Train accuracy: 1.000000, Val accuracy: 0.982097\n",
      "Average loss: 0.001000, Train accuracy: 1.000000, Val accuracy: 0.982097\n"
     ]
    }
   ],
   "source": [
    "train_model(model, train_loader, val_loader, loss, optimizer, 10)"
   ]
  },
  {
   "cell_type": "markdown",
   "metadata": {},
   "source": [
    "Conclusion paramètres\n",
    "\n",
    "Utilisation d'Alexnet : Optimiseur : SGD (avec lr = 1e-2, momentum = 0,1, weight_decay = 1e-3) et 10 epochs\n",
    "\n",
    "Résultats autour de 98%"
   ]
  },
  {
   "cell_type": "markdown",
   "metadata": {},
   "source": [
    "# Resnet"
   ]
  },
  {
   "cell_type": "code",
   "execution_count": 62,
   "metadata": {},
   "outputs": [],
   "source": [
    "model = models.resnet18(pretrained=True)\n",
    "\n",
    "num_ftrs = model.fc.in_features\n",
    "model.fc = nn.Linear(num_ftrs, 2)\n",
    "\n",
    "model = model.to(device)"
   ]
  },
  {
   "cell_type": "markdown",
   "metadata": {},
   "source": [
    "## SGD"
   ]
  },
  {
   "cell_type": "code",
   "execution_count": 51,
   "metadata": {},
   "outputs": [],
   "source": [
    "loss = nn.CrossEntropyLoss().type(torch.cuda.FloatTensor)\n",
    "optimizer = optim.SGD(model.parameters(), lr=1e-3)"
   ]
  },
  {
   "cell_type": "code",
   "execution_count": 52,
   "metadata": {},
   "outputs": [
    {
     "name": "stdout",
     "output_type": "stream",
     "text": [
      "Average loss: 0.591976, Train accuracy: 0.689017, Val accuracy: 0.744246\n",
      "Average loss: 0.440150, Train accuracy: 0.830140, Val accuracy: 0.867008\n",
      "Average loss: 0.332178, Train accuracy: 0.884419, Val accuracy: 0.900256\n",
      "Average loss: 0.266021, Train accuracy: 0.906769, Val accuracy: 0.915601\n",
      "Average loss: 0.213242, Train accuracy: 0.939336, Val accuracy: 0.936061\n",
      "Average loss: 0.180145, Train accuracy: 0.946999, Val accuracy: 0.941176\n",
      "Average loss: 0.151401, Train accuracy: 0.960409, Val accuracy: 0.959079\n",
      "Average loss: 0.127047, Train accuracy: 0.963602, Val accuracy: 0.961637\n",
      "Average loss: 0.104890, Train accuracy: 0.975734, Val accuracy: 0.959079\n",
      "Average loss: 0.100275, Train accuracy: 0.971903, Val accuracy: 0.961637\n",
      "Average loss: 0.079515, Train accuracy: 0.986590, Val accuracy: 0.964194\n",
      "Average loss: 0.059939, Train accuracy: 0.990421, Val accuracy: 0.964194\n",
      "Average loss: 0.054447, Train accuracy: 0.989783, Val accuracy: 0.969309\n",
      "Average loss: 0.054020, Train accuracy: 0.989783, Val accuracy: 0.966752\n",
      "Average loss: 0.043960, Train accuracy: 0.992337, Val accuracy: 0.974425\n"
     ]
    }
   ],
   "source": [
    "train_model(model, train_loader, val_loader, loss, optimizer, 15)"
   ]
  },
  {
   "cell_type": "markdown",
   "metadata": {},
   "source": [
    "## Adam"
   ]
  },
  {
   "cell_type": "code",
   "execution_count": 54,
   "metadata": {},
   "outputs": [],
   "source": [
    "loss = nn.CrossEntropyLoss().type(torch.cuda.FloatTensor)\n",
    "optimizer = optim.Adam(model.parameters(), lr=1e-3)"
   ]
  },
  {
   "cell_type": "code",
   "execution_count": 55,
   "metadata": {},
   "outputs": [
    {
     "name": "stdout",
     "output_type": "stream",
     "text": [
      "Average loss: 0.516295, Train accuracy: 0.782248, Val accuracy: 0.861893\n",
      "Average loss: 0.267459, Train accuracy: 0.897190, Val accuracy: 0.920716\n",
      "Average loss: 0.196430, Train accuracy: 0.930396, Val accuracy: 0.792839\n",
      "Average loss: 0.186117, Train accuracy: 0.933589, Val accuracy: 0.867008\n",
      "Average loss: 0.106293, Train accuracy: 0.961686, Val accuracy: 0.618926\n",
      "Average loss: 0.123815, Train accuracy: 0.961047, Val accuracy: 0.943734\n",
      "Average loss: 0.115284, Train accuracy: 0.957216, Val accuracy: 0.861893\n",
      "Average loss: 0.131293, Train accuracy: 0.956577, Val accuracy: 0.923274\n",
      "Average loss: 0.053452, Train accuracy: 0.980843, Val accuracy: 0.943734\n",
      "Average loss: 0.030763, Train accuracy: 0.989783, Val accuracy: 0.951407\n",
      "Average loss: 0.129103, Train accuracy: 0.948914, Val accuracy: 0.946292\n",
      "Average loss: 0.065848, Train accuracy: 0.977650, Val accuracy: 0.943734\n",
      "Average loss: 0.034322, Train accuracy: 0.987867, Val accuracy: 0.969309\n",
      "Average loss: 0.024529, Train accuracy: 0.992976, Val accuracy: 0.951407\n",
      "Average loss: 0.039112, Train accuracy: 0.987229, Val accuracy: 0.897698\n"
     ]
    }
   ],
   "source": [
    "train_model(model, train_loader, val_loader, loss, optimizer, 15)"
   ]
  },
  {
   "cell_type": "markdown",
   "metadata": {},
   "source": [
    "## Adagrad "
   ]
  },
  {
   "cell_type": "code",
   "execution_count": 57,
   "metadata": {},
   "outputs": [],
   "source": [
    "loss = nn.CrossEntropyLoss().type(torch.cuda.FloatTensor)\n",
    "optimizer = optim.Adagrad(model.parameters(), lr=1e-3)"
   ]
  },
  {
   "cell_type": "code",
   "execution_count": 58,
   "metadata": {},
   "outputs": [
    {
     "name": "stdout",
     "output_type": "stream",
     "text": [
      "Average loss: 0.273051, Train accuracy: 0.890805, Val accuracy: 0.966752\n",
      "Average loss: 0.058163, Train accuracy: 0.982120, Val accuracy: 0.953964\n",
      "Average loss: 0.029089, Train accuracy: 0.991060, Val accuracy: 0.989770\n",
      "Average loss: 0.006073, Train accuracy: 1.000000, Val accuracy: 0.987212\n",
      "Average loss: 0.011127, Train accuracy: 0.998723, Val accuracy: 0.997442\n",
      "Average loss: 0.012957, Train accuracy: 0.997446, Val accuracy: 0.987212\n",
      "Average loss: 0.007869, Train accuracy: 0.997446, Val accuracy: 0.997442\n",
      "Average loss: 0.003448, Train accuracy: 1.000000, Val accuracy: 0.997442\n",
      "Average loss: 0.002842, Train accuracy: 0.999361, Val accuracy: 0.994885\n",
      "Average loss: 0.001648, Train accuracy: 1.000000, Val accuracy: 0.997442\n",
      "Average loss: 0.001718, Train accuracy: 1.000000, Val accuracy: 0.992327\n",
      "Average loss: 0.003281, Train accuracy: 0.999361, Val accuracy: 0.989770\n",
      "Average loss: 0.001784, Train accuracy: 1.000000, Val accuracy: 0.994885\n",
      "Average loss: 0.001596, Train accuracy: 1.000000, Val accuracy: 0.992327\n",
      "Average loss: 0.005129, Train accuracy: 0.998084, Val accuracy: 0.992327\n"
     ]
    }
   ],
   "source": [
    "train_model(model, train_loader, val_loader, loss, optimizer, 15)"
   ]
  },
  {
   "cell_type": "code",
   "execution_count": 63,
   "metadata": {},
   "outputs": [],
   "source": [
    "loss = nn.CrossEntropyLoss().type(torch.cuda.FloatTensor)\n",
    "optimizer = optim.Adagrad(model.parameters(), lr=1e-3, weight_decay = 1e-3)"
   ]
  },
  {
   "cell_type": "code",
   "execution_count": 64,
   "metadata": {},
   "outputs": [
    {
     "name": "stdout",
     "output_type": "stream",
     "text": [
      "Average loss: 0.278530, Train accuracy: 0.895275, Val accuracy: 0.815857\n",
      "Average loss: 0.049927, Train accuracy: 0.984674, Val accuracy: 0.984655\n",
      "Average loss: 0.014998, Train accuracy: 0.997446, Val accuracy: 0.994885\n",
      "Average loss: 0.014087, Train accuracy: 0.995530, Val accuracy: 0.984655\n",
      "Average loss: 0.007627, Train accuracy: 0.998723, Val accuracy: 0.989770\n",
      "Average loss: 0.011993, Train accuracy: 0.997446, Val accuracy: 0.994885\n"
     ]
    }
   ],
   "source": [
    "train_model(model, train_loader, val_loader, loss, optimizer, 6)"
   ]
  },
  {
   "cell_type": "markdown",
   "metadata": {},
   "source": [
    "Conclusion paramètres\n",
    "\n",
    "Utilisation de Resnet : Optimiseur : Adagrad (avec lr = 1e-3, weight_decay = 1e-3) et 6 epochs\n",
    "\n",
    "Résultats autour de 99%"
   ]
  },
  {
   "cell_type": "markdown",
   "metadata": {},
   "source": [
    "# VGG (attention très long à train comparé aux autres)"
   ]
  },
  {
   "cell_type": "code",
   "execution_count": 14,
   "metadata": {},
   "outputs": [],
   "source": [
    "model = models.vgg16(pretrained=True)\n",
    "\n",
    "num_features = model.classifier[6].in_features\n",
    "features = list(model.classifier.children())[:-1] # Remove last layer\n",
    "features.extend([nn.Linear(num_features, 2)]) # Add our layer with 4 outputs\n",
    "model.classifier = nn.Sequential(*features) # Replace the model classifie\n",
    "\n",
    "model = model.to(device)"
   ]
  },
  {
   "cell_type": "markdown",
   "metadata": {},
   "source": [
    "## SGD"
   ]
  },
  {
   "cell_type": "code",
   "execution_count": 11,
   "metadata": {},
   "outputs": [],
   "source": [
    "loss = nn.CrossEntropyLoss().type(torch.cuda.FloatTensor)\n",
    "optimizer = optim.SGD(model.parameters(), lr=1e-3)"
   ]
  },
  {
   "cell_type": "code",
   "execution_count": 12,
   "metadata": {},
   "outputs": [
    {
     "name": "stdout",
     "output_type": "stream",
     "text": [
      "Average loss: 0.565571, Train accuracy: 0.698595, Val accuracy: 0.762148\n",
      "Average loss: 0.353250, Train accuracy: 0.854406, Val accuracy: 0.874680\n",
      "Average loss: 0.218821, Train accuracy: 0.922095, Val accuracy: 0.895141\n",
      "Average loss: 0.151999, Train accuracy: 0.941252, Val accuracy: 0.895141\n",
      "Average loss: 0.094103, Train accuracy: 0.971264, Val accuracy: 0.961637\n",
      "Average loss: 0.074226, Train accuracy: 0.976373, Val accuracy: 0.979540\n",
      "Average loss: 0.043693, Train accuracy: 0.989144, Val accuracy: 0.982097\n",
      "Average loss: 0.031927, Train accuracy: 0.993614, Val accuracy: 0.974425\n",
      "Average loss: 0.017049, Train accuracy: 0.994891, Val accuracy: 0.987212\n",
      "Average loss: 0.010985, Train accuracy: 0.997446, Val accuracy: 0.984655\n",
      "Average loss: 0.036416, Train accuracy: 0.989783, Val accuracy: 0.982097\n",
      "Average loss: 0.008564, Train accuracy: 0.999361, Val accuracy: 0.982097\n",
      "Average loss: 0.006503, Train accuracy: 0.998723, Val accuracy: 0.989770\n",
      "Average loss: 0.004952, Train accuracy: 0.999361, Val accuracy: 0.992327\n",
      "Average loss: 0.003219, Train accuracy: 1.000000, Val accuracy: 0.987212\n"
     ]
    }
   ],
   "source": [
    "train_model(model, train_loader, val_loader, loss, optimizer, 15)"
   ]
  },
  {
   "cell_type": "markdown",
   "metadata": {},
   "source": [
    "## Adam"
   ]
  },
  {
   "cell_type": "code",
   "execution_count": 9,
   "metadata": {},
   "outputs": [],
   "source": [
    "loss = nn.CrossEntropyLoss().type(torch.cuda.FloatTensor)\n",
    "optimizer = optim.Adam(model.parameters(), lr=1e-3)"
   ]
  },
  {
   "cell_type": "code",
   "execution_count": 10,
   "metadata": {},
   "outputs": [
    {
     "name": "stdout",
     "output_type": "stream",
     "text": [
      "Average loss: 0.805061, Train accuracy: 0.496169, Val accuracy: 0.496164\n",
      "Average loss: 0.711043, Train accuracy: 0.508940, Val accuracy: 0.496164\n",
      "Average loss: 0.709715, Train accuracy: 0.518519, Val accuracy: 0.503836\n",
      "Average loss: 0.704796, Train accuracy: 0.499361, Val accuracy: 0.496164\n",
      "Average loss: 0.705761, Train accuracy: 0.479566, Val accuracy: 0.496164\n",
      "Average loss: 0.705163, Train accuracy: 0.522989, Val accuracy: 0.503836\n",
      "Average loss: 0.703874, Train accuracy: 0.493614, Val accuracy: 0.496164\n",
      "Average loss: 0.701343, Train accuracy: 0.515326, Val accuracy: 0.496164\n",
      "Average loss: 0.702680, Train accuracy: 0.475096, Val accuracy: 0.496164\n",
      "Average loss: 0.703702, Train accuracy: 0.491060, Val accuracy: 0.496164\n",
      "Average loss: 0.700990, Train accuracy: 0.492337, Val accuracy: 0.496164\n",
      "Average loss: 0.702095, Train accuracy: 0.494891, Val accuracy: 0.503836\n",
      "Average loss: 0.700202, Train accuracy: 0.501916, Val accuracy: 0.503836\n",
      "Average loss: 0.700307, Train accuracy: 0.501277, Val accuracy: 0.496164\n",
      "Average loss: 0.701185, Train accuracy: 0.511494, Val accuracy: 0.503836\n"
     ]
    }
   ],
   "source": [
    "train_model(model, train_loader, val_loader, loss, optimizer, 15)"
   ]
  },
  {
   "cell_type": "markdown",
   "metadata": {},
   "source": [
    "## Adagrad "
   ]
  },
  {
   "cell_type": "code",
   "execution_count": 9,
   "metadata": {},
   "outputs": [],
   "source": [
    "loss = nn.CrossEntropyLoss().type(torch.cuda.FloatTensor)\n",
    "optimizer = optim.Adagrad(model.parameters(), lr=1e-3)"
   ]
  },
  {
   "cell_type": "code",
   "execution_count": 10,
   "metadata": {},
   "outputs": [
    {
     "name": "stdout",
     "output_type": "stream",
     "text": [
      "Average loss: 0.711855, Train accuracy: 0.585568, Val accuracy: 0.603581\n",
      "Average loss: 0.507839, Train accuracy: 0.763729, Val accuracy: 0.820972\n",
      "Average loss: 0.245199, Train accuracy: 0.900383, Val accuracy: 0.795396\n",
      "Average loss: 0.097116, Train accuracy: 0.964240, Val accuracy: 0.872123\n",
      "Average loss: 0.022857, Train accuracy: 0.994253, Val accuracy: 0.961637\n",
      "Average loss: 0.003239, Train accuracy: 0.998723, Val accuracy: 0.971867\n",
      "Average loss: 0.011875, Train accuracy: 0.996169, Val accuracy: 0.971867\n",
      "Average loss: 0.000241, Train accuracy: 1.000000, Val accuracy: 0.974425\n",
      "Average loss: 0.000040, Train accuracy: 1.000000, Val accuracy: 0.974425\n",
      "Average loss: 0.000018, Train accuracy: 1.000000, Val accuracy: 0.976982\n",
      "Average loss: 0.000005, Train accuracy: 1.000000, Val accuracy: 0.974425\n",
      "Average loss: 0.000012, Train accuracy: 1.000000, Val accuracy: 0.971867\n",
      "Average loss: 0.000004, Train accuracy: 1.000000, Val accuracy: 0.974425\n",
      "Average loss: 0.000003, Train accuracy: 1.000000, Val accuracy: 0.971867\n",
      "Average loss: 0.000003, Train accuracy: 1.000000, Val accuracy: 0.971867\n"
     ]
    }
   ],
   "source": [
    "train_model(model, train_loader, val_loader, loss, optimizer, 15)"
   ]
  },
  {
   "cell_type": "code",
   "execution_count": 15,
   "metadata": {},
   "outputs": [],
   "source": [
    "loss = nn.CrossEntropyLoss().type(torch.cuda.FloatTensor)\n",
    "optimizer = optim.SGD(model.parameters(), lr=1e-2)"
   ]
  },
  {
   "cell_type": "code",
   "execution_count": 16,
   "metadata": {},
   "outputs": [
    {
     "name": "stdout",
     "output_type": "stream",
     "text": [
      "Average loss: 0.579351, Train accuracy: 0.701149, Val accuracy: 0.887468\n",
      "Average loss: 0.199586, Train accuracy: 0.924649, Val accuracy: 0.913043\n",
      "Average loss: 0.099438, Train accuracy: 0.969987, Val accuracy: 0.976982\n",
      "Average loss: 0.018597, Train accuracy: 0.994891, Val accuracy: 0.987212\n",
      "Average loss: 0.001250, Train accuracy: 1.000000, Val accuracy: 0.987212\n",
      "Average loss: 0.000216, Train accuracy: 1.000000, Val accuracy: 0.987212\n",
      "Average loss: 0.000222, Train accuracy: 1.000000, Val accuracy: 0.987212\n",
      "Average loss: 0.000096, Train accuracy: 1.000000, Val accuracy: 0.989770\n",
      "Average loss: 0.000088, Train accuracy: 1.000000, Val accuracy: 0.989770\n",
      "Average loss: 0.000067, Train accuracy: 1.000000, Val accuracy: 0.989770\n",
      "Average loss: 0.000037, Train accuracy: 1.000000, Val accuracy: 0.989770\n",
      "Average loss: 0.000043, Train accuracy: 1.000000, Val accuracy: 0.989770\n",
      "Average loss: 0.000037, Train accuracy: 1.000000, Val accuracy: 0.989770\n",
      "Average loss: 0.000031, Train accuracy: 1.000000, Val accuracy: 0.989770\n",
      "Average loss: 0.000041, Train accuracy: 1.000000, Val accuracy: 0.987212\n"
     ]
    }
   ],
   "source": [
    "train_model(model, train_loader, val_loader, loss, optimizer, 15)"
   ]
  },
  {
   "cell_type": "markdown",
   "metadata": {},
   "source": [
    "Conclusion paramètres\n",
    "\n",
    "Utilisation de VGG : Optimiseur : SGD (avec lr = 1e-2) et 5 epochs\n",
    "\n",
    "Résultats autour de 98%\n"
   ]
  },
  {
   "cell_type": "markdown",
   "metadata": {},
   "source": [
    "## Fixed feature extractor"
   ]
  },
  {
   "cell_type": "code",
   "execution_count": 47,
   "metadata": {},
   "outputs": [],
   "source": [
    "model = models.alexnet(pretrained=True)\n",
    "\n",
    "for param in model.parameters():\n",
    "    param.requires_grad = False\n",
    "    \n",
    "\n",
    "model.classifier[6] = torch.nn.Linear(model.classifier[6].in_features, 2)\n",
    "\n",
    "model = model.to(device)"
   ]
  },
  {
   "cell_type": "code",
   "execution_count": 48,
   "metadata": {},
   "outputs": [],
   "source": [
    "loss = nn.CrossEntropyLoss().type(torch.cuda.FloatTensor)\n",
    "optimizer = optim.SGD(model.parameters(), lr=1e-3)"
   ]
  },
  {
   "cell_type": "code",
   "execution_count": 49,
   "metadata": {},
   "outputs": [
    {
     "name": "stdout",
     "output_type": "stream",
     "text": [
      "Average loss: 0.560077, Train accuracy: 0.724138, Val accuracy: 0.593350\n",
      "Average loss: 0.456238, Train accuracy: 0.786079, Val accuracy: 0.810742\n",
      "Average loss: 0.419200, Train accuracy: 0.818646, Val accuracy: 0.820972\n",
      "Average loss: 0.392038, Train accuracy: 0.829502, Val accuracy: 0.851662\n",
      "Average loss: 0.369810, Train accuracy: 0.828225, Val accuracy: 0.838875\n",
      "Average loss: 0.328132, Train accuracy: 0.856960, Val accuracy: 0.820972\n",
      "Average loss: 0.350224, Train accuracy: 0.846105, Val accuracy: 0.769821\n",
      "Average loss: 0.335526, Train accuracy: 0.860792, Val accuracy: 0.861893\n",
      "Average loss: 0.320879, Train accuracy: 0.864623, Val accuracy: 0.884910\n",
      "Average loss: 0.314250, Train accuracy: 0.863985, Val accuracy: 0.884910\n",
      "Average loss: 0.312332, Train accuracy: 0.861430, Val accuracy: 0.877238\n",
      "Average loss: 0.310747, Train accuracy: 0.868455, Val accuracy: 0.890026\n",
      "Average loss: 0.293823, Train accuracy: 0.878033, Val accuracy: 0.856777\n",
      "Average loss: 0.303417, Train accuracy: 0.871009, Val accuracy: 0.884910\n",
      "Average loss: 0.293307, Train accuracy: 0.870370, Val accuracy: 0.900256\n",
      "Average loss: 0.306164, Train accuracy: 0.875479, Val accuracy: 0.900256\n",
      "Average loss: 0.285690, Train accuracy: 0.885057, Val accuracy: 0.841432\n",
      "Average loss: 0.279125, Train accuracy: 0.876756, Val accuracy: 0.897698\n",
      "Average loss: 0.282376, Train accuracy: 0.879310, Val accuracy: 0.823529\n",
      "Average loss: 0.283705, Train accuracy: 0.871648, Val accuracy: 0.892583\n",
      "Average loss: 0.285652, Train accuracy: 0.881865, Val accuracy: 0.795396\n",
      "Average loss: 0.283475, Train accuracy: 0.878672, Val accuracy: 0.900256\n",
      "Average loss: 0.269587, Train accuracy: 0.881865, Val accuracy: 0.905371\n",
      "Average loss: 0.267406, Train accuracy: 0.892720, Val accuracy: 0.907928\n",
      "Average loss: 0.289046, Train accuracy: 0.871648, Val accuracy: 0.902813\n"
     ]
    }
   ],
   "source": [
    "train_model(model, train_loader, val_loader, loss, optimizer, 25)"
   ]
  },
  {
   "cell_type": "markdown",
   "metadata": {},
   "source": [
    "Résultats bcp moins bien en fixed feature extractor, autant faire du fine tuning même si moins rapide"
   ]
  },
  {
   "cell_type": "code",
   "execution_count": null,
   "metadata": {},
   "outputs": [],
   "source": []
  }
 ],
 "metadata": {
  "kernelspec": {
   "display_name": "Python 3",
   "language": "python",
   "name": "python3"
  },
  "language_info": {
   "codemirror_mode": {
    "name": "ipython",
    "version": 3
   },
   "file_extension": ".py",
   "mimetype": "text/x-python",
   "name": "python",
   "nbconvert_exporter": "python",
   "pygments_lexer": "ipython3",
   "version": "3.7.4"
  }
 },
 "nbformat": 4,
 "nbformat_minor": 2
}
